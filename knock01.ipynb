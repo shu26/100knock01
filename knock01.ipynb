{
 "cells": [
  {
   "cell_type": "markdown",
   "metadata": {},
   "source": [
    "# 言語処理100本ノック　Python\n",
    "# 第１章"
   ]
  },
  {
   "cell_type": "markdown",
   "metadata": {},
   "source": [
    "# 00. 文字列の逆順\n",
    "文字列\"stressed\"の文字を逆に（末尾から先頭に向かって）並べた文字列を得よ．"
   ]
  },
  {
   "cell_type": "code",
   "execution_count": null,
   "metadata": {
    "collapsed": true
   },
   "outputs": [],
   "source": [
    "target00 = 'stressed'\n",
    "result00 = target00[::-1]\t# スライスを使う\n",
    "print(result00)"
   ]
  },
  {
   "cell_type": "markdown",
   "metadata": {},
   "source": [
    "# 01. 「パタトクカシーー」\n",
    "「パタトクカシーー」という文字列の1,3,5,7文字目を取り出して連結した文字列を得よ．"
   ]
  },
  {
   "cell_type": "code",
   "execution_count": 2,
   "metadata": {},
   "outputs": [
    {
     "name": "stdout",
     "output_type": "stream",
     "text": [
      "パトカー\n"
     ]
    }
   ],
   "source": [
    "target01 = 'パタトクカシーー'\n",
    "result01 = target01[::2]\n",
    "print(result01)"
   ]
  },
  {
   "cell_type": "markdown",
   "metadata": {},
   "source": [
    "# 02. 「パトカー」＋「タクシー」＝「パタトクカシーー」\n",
    "「パトカー」＋「タクシー」の文字を先頭から交互に連結して文字列「パタトクカシーー」を得よ．"
   ]
  },
  {
   "cell_type": "code",
   "execution_count": 1,
   "metadata": {},
   "outputs": [
    {
     "name": "stdout",
     "output_type": "stream",
     "text": [
      "パタトクカシーー\n"
     ]
    }
   ],
   "source": [
    "target02a = 'パトカー'\n",
    "target02b = 'タクシー'\n",
    "result02 = ''\n",
    "for (a, b) in zip (target02a, target02b):\t# zipは複数のイテラブルから要素を集めてリストを作る\n",
    "\tresult02 += a + b\n",
    "print(result02)"
   ]
  },
  {
   "cell_type": "markdown",
   "metadata": {},
   "source": [
    "# 03. 円周率\n",
    "\"Now I need a drink, alcoholic of course, after the heavy lectures involving quantum mechanics.\"という文を単語に分解し，各単語の（アルファベットの）文字数を先頭から出現順に並べたリストを作成せよ．"
   ]
  },
  {
   "cell_type": "code",
   "execution_count": 5,
   "metadata": {},
   "outputs": [
    {
     "name": "stdout",
     "output_type": "stream",
     "text": [
      "[3, 1, 4, 1, 5, 9, 2, 6, 5, 3, 5, 8, 9, 7, 9]\n"
     ]
    }
   ],
   "source": [
    "target03 = 'Now I need a drink, alcoholic of course, after the heavy lectures involving quantum mechanics.'\n",
    "result03 = []\n",
    "\n",
    "words03 = target03.split()\n",
    "for word in words03:\n",
    "\tresult03.append(len(word) - word.count(',') - word.count('.'))\n",
    "print(result03)"
   ]
  },
  {
   "cell_type": "markdown",
   "metadata": {},
   "source": [
    "# 04. 元素記号\n",
    "\"Hi He Lied Because Boron Could Not Oxidize Fluorine. New Nations Might Also Sign Peace Security Clause. Arthur King Can.\"という文を単語に分解し，1, 5, 6, 7, 8, 9, 15, 16, 19番目の単語は先頭の1文字，それ以外の単語は先頭に2文字を取り出し、取り出した文字列から単語の位置（先頭から何番目の単語か）への連想配列（辞書型もしくはマップ型）を作成せよ．"
   ]
  },
  {
   "cell_type": "code",
   "execution_count": 4,
   "metadata": {},
   "outputs": [
    {
     "name": "stdout",
     "output_type": "stream",
     "text": [
      "1 Hi\n",
      "2 He\n",
      "3 Lied\n",
      "4 Because\n",
      "5 Boron\n",
      "6 Could\n",
      "7 Not\n",
      "8 Oxidize\n",
      "9 Fluorine.\n",
      "10 New\n",
      "11 Nations\n",
      "12 Might\n",
      "13 Also\n",
      "14 Sign\n",
      "15 Peace\n",
      "16 Security\n",
      "17 Clause.\n",
      "18 Arthur\n",
      "19 King\n",
      "20 Can.\n",
      "{'H': 1, 'He': 2, 'Li': 3, 'Be': 4, 'B': 5, 'C': 6, 'N': 7, 'O': 8, 'F': 9, 'Ne': 10, 'Na': 11, 'Mi': 12, 'Al': 13, 'Si': 14, 'P': 15, 'S': 16, 'Cl': 17, 'Ar': 18, 'K': 19, 'Ca': 20}\n"
     ]
    }
   ],
   "source": [
    "num_first_only = {1, 5, 6, 7, 8, 9, 15, 16, 19}\n",
    "target04 = \"Hi He Lied Because Boron Could Not Oxidize Fluorine. New Nations Might Also Sign Peace Security Clause. Arthur King Can.\"\n",
    "result04 = {}\n",
    "\n",
    "words04 = target04.split(' ')\t\n",
    "for (num, word) in enumerate(words04, 1):\n",
    "\tprint(num, word)\t# enumurateで起こっていることの検証\n",
    "\tif num in num_first_only:\n",
    "\t\tresult04[word[0:1]] = num\t# 辞書として格納\n",
    "\telse:\n",
    "\t\tresult04[word[0:2]] = num\t# 辞書として格納\n",
    "\t\t\n",
    "print(result04)"
   ]
  },
  {
   "cell_type": "markdown",
   "metadata": {},
   "source": [
    "# 05.n-gram\n",
    "与えられたシーケンス（文字列やリストなど）からn-gramを作る関数を作成せよ．この関数を用い，\"I am an NLPer\"という文から単語bi-gram，文字bi-gramを得よ．"
   ]
  },
  {
   "cell_type": "code",
   "execution_count": 3,
   "metadata": {},
   "outputs": [
    {
     "name": "stdout",
     "output_type": "stream",
     "text": [
      "[['I', 'am'], ['am', 'an'], ['an', 'NLPer']]\n",
      "13\n",
      "['I ', ' a', 'am', 'm ', ' a', 'an', 'n ', ' N', 'NL', 'LP', 'Pe', 'er']\n"
     ]
    }
   ],
   "source": [
    "def n_gram(target, n):\n",
    "    '''指定されたリストからn-gramを作成\n",
    "\n",
    "    引数:\n",
    "    target -- 対象リスト\n",
    "    n -- n-gramのn値（1ならuni-gram、2ならbi-gram...）\n",
    "    戻り値:\n",
    "    gramのリスト\n",
    "    '''\n",
    "    result = []\n",
    "    for i in range(0, len(target) - n + 1):    # 範囲を調整\n",
    "        result.append(target[i:i + n])    # スライスを利用\n",
    "\n",
    "    return result\n",
    "\n",
    "\n",
    "target = 'I am an NLPer'\n",
    "words_target = target.split(' ')\n",
    "\n",
    "# 単語bi-gram\n",
    "result = n_gram(words_target, 2)\n",
    "print(result)\n",
    "\n",
    "# 文字bi-gram\n",
    "result = n_gram(target, 2)\n",
    "print(result)"
   ]
  },
  {
   "cell_type": "markdown",
   "metadata": {
    "collapsed": true
   },
   "source": [
    "# 06. 集合\n",
    "\"paraparaparadise\"と\"paragraph\"に含まれる文字bi-gramの集合を，それぞれ, XとYとして求め，XとYの和集合，積集合，差集合を求めよ．さらに，'se'というbi-gramがXおよびYに含まれるかどうかを調べよ．"
   ]
  },
  {
   "cell_type": "code",
   "execution_count": 4,
   "metadata": {},
   "outputs": [
    {
     "name": "stdout",
     "output_type": "stream",
     "text": [
      "X:{'ar', 'pa', 'ra', 'se', 'ap', 'di', 'is', 'ad'}\n",
      "Y:{'ar', 'gr', 'pa', 'ph', 'ra', 'ag', 'ap'}\n",
      "和集合:{'ar', 'pa', 'ra', 'se', 'di', 'is', 'gr', 'ph', 'ag', 'ap', 'ad'}\n",
      "積集合:{'ar', 'pa', 'ap', 'ra'}\n",
      "差集合:{'di', 'se', 'is', 'ad'}\n",
      "seがXに含まれる:True\n",
      "seがYに含まれる:False\n"
     ]
    }
   ],
   "source": [
    "# n-gram関数は前問と同じもの\n",
    "def n_gram(target, n):\n",
    "    '''指定されたリストからn-gramを作成\n",
    "\n",
    "    引数:\n",
    "    target -- 対象リスト\n",
    "    n -- n-gramのn値（1ならuni-gram、2ならbi-gram...）\n",
    "    戻り値:\n",
    "    gramのリスト\n",
    "    '''\n",
    "    result = []\n",
    "    for i in range(0, len(target) - n + 1):\n",
    "        result.append(target[i:i + n])\n",
    "\n",
    "    return result\n",
    "\n",
    "\n",
    "# 集合の作成 （setを使うことでリストではなくタプルとして格納）\n",
    "set_x = set(n_gram('paraparaparadise', 2))\n",
    "print('X:' + str(set_x))\n",
    "set_y = set(n_gram('paragraph', 2))\n",
    "print('Y:' + str(set_y))\n",
    "\n",
    "# 和集合\n",
    "set_or = set_x | set_y\n",
    "print('和集合:' + str(set_or))\n",
    "\n",
    "# 積集合\n",
    "set_and = set_x & set_y\n",
    "print('積集合:' + str(set_and))\n",
    "\n",
    "# 差集合\n",
    "set_sub = set_x - set_y\n",
    "print('差集合:' + str(set_sub))\n",
    "\n",
    "# 'se'が含まれるか？\n",
    "print('seがXに含まれる:' + str('se' in set_x))\n",
    "print('seがYに含まれる:' + str('se' in set_y))"
   ]
  },
  {
   "cell_type": "markdown",
   "metadata": {},
   "source": [
    "# 07. テンプレートによる文生成\n",
    "引数x, y, zを受け取り「x時のyはz」という文字列を返す関数を実装せよ．さらに，x=12, y=\"気温\", z=22.4として，実行結果を確認せよ．"
   ]
  },
  {
   "cell_type": "code",
   "execution_count": 8,
   "metadata": {},
   "outputs": [
    {
     "name": "stdout",
     "output_type": "stream",
     "text": [
      "12時の気温は22.4\n"
     ]
    }
   ],
   "source": [
    "def make_sentence(x, y, z):\n",
    "    return '{0}時の{1}は{2}'.format(x, y, z)    #  formatメソッドを活用\n",
    "\n",
    "# テスト\n",
    "x = 12\n",
    "y = '気温'\n",
    "z = 22.4\n",
    "print(make_sentence(x, y, z))"
   ]
  },
  {
   "cell_type": "markdown",
   "metadata": {},
   "source": [
    "## 08. 暗号文\n",
    "与えられた文字列の各文字を，以下の仕様で変換する関数cipherを実装せよ．\n",
    "\n",
    "英小文字ならば(219 - 文字コード)の文字に置換\n",
    "その他の文字はそのまま出力\n",
    "この関数を用い，英語のメッセージを暗号化・復号化せよ．"
   ]
  },
  {
   "cell_type": "code",
   "execution_count": 3,
   "metadata": {},
   "outputs": [
    {
     "name": "stdout",
     "output_type": "stream",
     "text": [
      "英文の文字列を入力してください akmak\n",
      "暗号化:zpnzp\n",
      "復号化:akmak\n"
     ]
    }
   ],
   "source": [
    "def cipher(target):\n",
    "    '''\n",
    "    引数:  target -- 対象の文字列\n",
    "    戻り値:   変換後の文字列\n",
    "    '''\n",
    "    result = ''\n",
    "    for c in target:\n",
    "        if c.islower():    # 全ての文字が小文字かどうか判断\n",
    "            result += chr(219 - ord(c))    # chr()で文字コードに対応する文字列を、ord()で対応する10進数を得る（暗号・複合どちらも可能）\n",
    "        else:\n",
    "            result += c\n",
    "    return result\n",
    "\n",
    "\n",
    "# 対象文字列の入力\n",
    "target = input('英文の文字列を入力してください ')\n",
    "\n",
    "# 暗号化\n",
    "result = cipher(target)\n",
    "print('暗号化:' + result)\n",
    "\n",
    "# 復号化\n",
    "result2 = cipher(result)\n",
    "print('復号化:' + result2)\n",
    "\n",
    "# 復号化で元に戻っているかチェック\n",
    "if result2 != target:\n",
    "    print('元に戻っていない！？')"
   ]
  },
  {
   "cell_type": "markdown",
   "metadata": {},
   "source": [
    "# 09. Typoglycemia\n",
    "スペースで区切られた単語列に対して，各単語の先頭と末尾の文字は残し，それ以外の文字の順序をランダムに並び替えるプログラムを作成せよ．ただし，長さが４以下の単語は並び替えないこととする．適当な英語の文（例えば\"I couldn't believe that I could actually understand what I was reading : the phenomenal power of the human mind .\"）を与え，その実行結果を確認せよ．"
   ]
  },
  {
   "cell_type": "code",
   "execution_count": 5,
   "metadata": {},
   "outputs": [
    {
     "name": "stdout",
     "output_type": "stream",
     "text": [
      "文字列を入力してくださいawgbeai nage lmeo\n",
      "変換結果:aegbawi nage lmeo\n"
     ]
    }
   ],
   "source": [
    "import random\n",
    "\n",
    "\n",
    "def Typoglycemia(target):\n",
    "    '''\n",
    "    引数:  target -- 対象の文字列\n",
    "    戻り値:  変換後の文字列\n",
    "    '''\n",
    "    result = []\n",
    "    for word in target.split(' '):\n",
    "        if len(word) <= 4:\n",
    "            result.append(word)\n",
    "        else:\n",
    "            chr_list = list(word[1:-1])\n",
    "            random.shuffle(chr_list)    # 先頭と最後以外をシャッフル\n",
    "            result.append(word[0] + ''.join(chr_list) + word[-1])\n",
    "\n",
    "    return ' '.join(result)    # 文字列のリストを連結する（連結する際の区切りはスペース）\n",
    "\n",
    "# 対象文字列の入力\n",
    "target = input('文字列を入力してください')\n",
    "\n",
    "# 出力\n",
    "result = Typoglycemia(target)\n",
    "print('変換結果:' + result)"
   ]
  },
  {
   "cell_type": "code",
   "execution_count": null,
   "metadata": {
    "collapsed": true
   },
   "outputs": [],
   "source": []
  }
 ],
 "metadata": {
  "kernelspec": {
   "display_name": "Python 3",
   "language": "python",
   "name": "python3"
  },
  "language_info": {
   "codemirror_mode": {
    "name": "ipython",
    "version": 3
   },
   "file_extension": ".py",
   "mimetype": "text/x-python",
   "name": "python",
   "nbconvert_exporter": "python",
   "pygments_lexer": "ipython3",
   "version": "3.6.1"
  }
 },
 "nbformat": 4,
 "nbformat_minor": 2
}
