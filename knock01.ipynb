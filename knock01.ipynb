{
 "cells": [
  {
   "cell_type": "markdown",
   "metadata": {},
   "source": [
    "# 00. 文字列の逆順\n",
    "## 文字列\"stressed\"の文字を逆に（末尾から先頭に向かって）並べた文字列を得よ．"
   ]
  },
  {
   "cell_type": "code",
   "execution_count": null,
   "metadata": {
    "collapsed": true
   },
   "outputs": [],
   "source": [
    "target00 = 'stressed'\n",
    "result00 = target00[::-1]\t# スライスを使う\n",
    "print(result00)"
   ]
  },
  {
   "cell_type": "markdown",
   "metadata": {},
   "source": [
    "# 01. 「パタトクカシーー」\n",
    "## 「パタトクカシーー」という文字列の1,3,5,7文字目を取り出して連結した文字列を得よ．"
   ]
  },
  {
   "cell_type": "code",
   "execution_count": 2,
   "metadata": {},
   "outputs": [
    {
     "name": "stdout",
     "output_type": "stream",
     "text": [
      "パトカー\n"
     ]
    }
   ],
   "source": [
    "target01 = 'パタトクカシーー'\n",
    "result01 = target01[::2]\n",
    "print(result01)"
   ]
  },
  {
   "cell_type": "markdown",
   "metadata": {},
   "source": [
    "# 02. 「パトカー」＋「タクシー」＝「パタトクカシーー」\n",
    "## 「パトカー」＋「タクシー」の文字を先頭から交互に連結して文字列「パタトクカシーー」を得よ．"
   ]
  },
  {
   "cell_type": "code",
   "execution_count": 1,
   "metadata": {},
   "outputs": [
    {
     "name": "stdout",
     "output_type": "stream",
     "text": [
      "パタトクカシーー\n"
     ]
    }
   ],
   "source": [
    "target02a = 'パトカー'\n",
    "target02b = 'タクシー'\n",
    "result02 = ''\n",
    "for (a, b) in zip (target02a, target02b):\t# zipは複数のイテラブルから要素を集めてリストを作る\n",
    "\tresult02 += a + b\n",
    "print(result02)"
   ]
  },
  {
   "cell_type": "markdown",
   "metadata": {},
   "source": [
    "# 03. 円周率\n",
    "## \"Now I need a drink, alcoholic of course, after the heavy lectures involving quantum mechanics.\"という文を単語に分解し，各単語の（アルファベットの）文字数を先頭から出現順に並べたリストを作成せよ．"
   ]
  },
  {
   "cell_type": "code",
   "execution_count": 5,
   "metadata": {},
   "outputs": [
    {
     "name": "stdout",
     "output_type": "stream",
     "text": [
      "[3, 1, 4, 1, 5, 9, 2, 6, 5, 3, 5, 8, 9, 7, 9]\n"
     ]
    }
   ],
   "source": [
    "target03 = 'Now I need a drink, alcoholic of course, after the heavy lectures involving quantum mechanics.'\n",
    "result03 = []\n",
    "\n",
    "words03 = target03.split()\n",
    "for word in words03:\n",
    "\tresult03.append(len(word) - word.count(',') - word.count('.'))\n",
    "print(result03)"
   ]
  },
  {
   "cell_type": "markdown",
   "metadata": {},
   "source": [
    "# 04. 元素記号\n",
    "## \"Hi He Lied Because Boron Could Not Oxidize Fluorine. New Nations Might Also Sign Peace Security Clause. Arthur King Can.\"という文を単語に分解し，1, 5, 6, 7, 8, 9, 15, 16, 19番目の単語は先頭の1文字，それ以外の単語は先頭に2文字を取り出し、取り出した文字列から単語の位置（先頭から何番目の単語か）への連想配列（辞書型もしくはマップ型）を作成せよ．"
   ]
  },
  {
   "cell_type": "code",
   "execution_count": 4,
   "metadata": {},
   "outputs": [
    {
     "name": "stdout",
     "output_type": "stream",
     "text": [
      "1 Hi\n",
      "2 He\n",
      "3 Lied\n",
      "4 Because\n",
      "5 Boron\n",
      "6 Could\n",
      "7 Not\n",
      "8 Oxidize\n",
      "9 Fluorine.\n",
      "10 New\n",
      "11 Nations\n",
      "12 Might\n",
      "13 Also\n",
      "14 Sign\n",
      "15 Peace\n",
      "16 Security\n",
      "17 Clause.\n",
      "18 Arthur\n",
      "19 King\n",
      "20 Can.\n",
      "{'H': 1, 'He': 2, 'Li': 3, 'Be': 4, 'B': 5, 'C': 6, 'N': 7, 'O': 8, 'F': 9, 'Ne': 10, 'Na': 11, 'Mi': 12, 'Al': 13, 'Si': 14, 'P': 15, 'S': 16, 'Cl': 17, 'Ar': 18, 'K': 19, 'Ca': 20}\n"
     ]
    }
   ],
   "source": [
    "num_first_only = {1, 5, 6, 7, 8, 9, 15, 16, 19}\n",
    "target04 = \"Hi He Lied Because Boron Could Not Oxidize Fluorine. New Nations Might Also Sign Peace Security Clause. Arthur King Can.\"\n",
    "result04 = {}\n",
    "\n",
    "words04 = target04.split(' ')\t\n",
    "for (num, word) in enumerate(words04, 1):\n",
    "\tprint(num, word)\t# enumurateで起こっていることの検証\n",
    "\tif num in num_first_only:\n",
    "\t\tresult04[word[0:1]] = num\t# 辞書として格納\n",
    "\telse:\n",
    "\t\tresult04[word[0:2]] = num\t# 辞書として格納\n",
    "\t\t\n",
    "print(result04)"
   ]
  },
  {
   "cell_type": "markdown",
   "metadata": {},
   "source": [
    "# 05.n-gram\n",
    "## 与えられたシーケンス（文字列やリストなど）からn-gramを作る関数を作成せよ．この関数を用い，\"I am an NLPer\"という文から単語bi-gram，文字bi-gramを得よ．"
   ]
  },
  {
   "cell_type": "code",
   "execution_count": 9,
   "metadata": {},
   "outputs": [
    {
     "name": "stdout",
     "output_type": "stream",
     "text": [
      "['I-am', 'am-an', 'an-NLPer']\n",
      "['I ', ' a', 'am', 'm ', ' a', 'an', 'n ', ' N', 'NL', 'LP', 'Pe', 'er']\n"
     ]
    }
   ],
   "source": [
    "sentence05 = \"I am an NLPer\"\n",
    "\n",
    "# 単語bi-gram\n",
    "words05 = [word05 for word05 in sentence05.split()]\t\n",
    "wordGram=[\"-\".join(words05[i:i+2]) for i in range(len(words05)-1)]\n",
    "print(wordGram)\n",
    "\n",
    "# 文字bi-gram\n",
    "charGram = [sentence05[i:i+2] for i in range(len(sentence05)-1)]\n",
    "print(charGram)"
   ]
  },
  {
   "cell_type": "code",
   "execution_count": null,
   "metadata": {
    "collapsed": true
   },
   "outputs": [],
   "source": []
  }
 ],
 "metadata": {
  "kernelspec": {
   "display_name": "Python 3",
   "language": "python",
   "name": "python3"
  },
  "language_info": {
   "codemirror_mode": {
    "name": "ipython",
    "version": 3
   },
   "file_extension": ".py",
   "mimetype": "text/x-python",
   "name": "python",
   "nbconvert_exporter": "python",
   "pygments_lexer": "ipython3",
   "version": "3.6.1"
  }
 },
 "nbformat": 4,
 "nbformat_minor": 2
}
